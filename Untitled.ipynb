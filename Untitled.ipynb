{
 "cells": [
  {
   "cell_type": "code",
   "execution_count": 5,
   "id": "fa140947-7e3c-41c9-8d6f-c95fa9ea6b31",
   "metadata": {},
   "outputs": [],
   "source": [
    "from pyspark.sql import SparkSession, Row\n",
    "from datetime import datetime, date\n",
    "\n",
    "spark = SparkSession.builder.getOrCreate()\n",
    "products = spark.createDataFrame([\n",
    "    Row(prodId=0, name='soup'),\n",
    "    Row(prodId=1, name='rope'),\n",
    "])\n",
    "\n",
    "categories = spark.createDataFrame([\n",
    "    Row(categId=0, name='food'),\n",
    "    Row(categId=1, name='gym'),\n",
    "])\n",
    "\n",
    "product_category = spark.createDataFrame([\n",
    "    Row(prodId=0, categId=0)\n",
    "])\n",
    "\n",
    "#product_category.join(products, 'prodId', 'right').join(categories, 'categId', 'left').select(products.name, categories.name).show()"
   ]
  },
  {
   "cell_type": "code",
   "execution_count": 6,
   "id": "6bf6a05a-01be-4b61-af59-77220f12b44a",
   "metadata": {},
   "outputs": [],
   "source": [
    "def get_product_and_category():\n",
    "    product_category.join(products, 'prodId', 'right').join(categories, 'categId', 'left').select(products.name, categories.name).show()"
   ]
  },
  {
   "cell_type": "code",
   "execution_count": 7,
   "id": "8c511d49-30f8-402d-b19d-ab2c45b50615",
   "metadata": {},
   "outputs": [
    {
     "name": "stdout",
     "output_type": "stream",
     "text": [
      "+----+----+\n",
      "|name|name|\n",
      "+----+----+\n",
      "|soup|food|\n",
      "|rope|NULL|\n",
      "+----+----+\n",
      "\n"
     ]
    }
   ],
   "source": [
    "get_product_and_category()"
   ]
  }
 ],
 "metadata": {
  "kernelspec": {
   "display_name": "Python 3 (ipykernel)",
   "language": "python",
   "name": "python3"
  },
  "language_info": {
   "codemirror_mode": {
    "name": "ipython",
    "version": 3
   },
   "file_extension": ".py",
   "mimetype": "text/x-python",
   "name": "python",
   "nbconvert_exporter": "python",
   "pygments_lexer": "ipython3",
   "version": "3.10.10"
  }
 },
 "nbformat": 4,
 "nbformat_minor": 5
}
